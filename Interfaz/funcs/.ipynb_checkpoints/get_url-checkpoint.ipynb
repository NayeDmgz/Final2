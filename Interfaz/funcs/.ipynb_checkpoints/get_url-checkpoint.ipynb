{
 "cells": [
  {
   "cell_type": "code",
   "execution_count": null,
   "id": "4c03aa2c",
   "metadata": {},
   "outputs": [],
   "source": [
    "def get_url(valores):\n",
    "    urls = []\n",
    "    for i in valores:\n",
    "        if type(i) != int:\n",
    "            urls.append(i)\n",
    "    return urls\n"
   ]
  }
 ],
 "metadata": {
  "kernelspec": {
   "display_name": "Python 3",
   "language": "python",
   "name": "python3"
  },
  "language_info": {
   "codemirror_mode": {
    "name": "ipython",
    "version": 3
   },
   "file_extension": ".py",
   "mimetype": "text/x-python",
   "name": "python",
   "nbconvert_exporter": "python",
   "pygments_lexer": "ipython3",
   "version": "3.8.8"
  }
 },
 "nbformat": 4,
 "nbformat_minor": 5
}
