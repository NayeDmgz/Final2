{
 "cells": [
  {
   "cell_type": "code",
   "execution_count": null,
   "id": "31109b8d",
   "metadata": {},
   "outputs": [],
   "source": [
    "import mechanize\n",
    "from mechanize import Browser\n",
    "def recupera_title(url):\n",
    "    br = Browser()\n",
    "    br.set_handle_robots(False)\n",
    "    br.open(url)\n",
    "    title = br.title()\n",
    "    return title"
   ]
  }
 ],
 "metadata": {
  "kernelspec": {
   "display_name": "Python 3",
   "language": "python",
   "name": "python3"
  },
  "language_info": {
   "codemirror_mode": {
    "name": "ipython",
    "version": 3
   },
   "file_extension": ".py",
   "mimetype": "text/x-python",
   "name": "python",
   "nbconvert_exporter": "python",
   "pygments_lexer": "ipython3",
   "version": "3.8.8"
  }
 },
 "nbformat": 4,
 "nbformat_minor": 5
}
